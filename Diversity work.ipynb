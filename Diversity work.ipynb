{
 "cells": [
  {
   "cell_type": "code",
   "execution_count": 21,
   "metadata": {},
   "outputs": [],
   "source": [
    "import pandas as pd\n",
    "import numpy as np\n",
    "import matplotlib.pyplot as plt\n",
    "import matplotlib.gridspec as gridspec\n",
    "from matplotlib.colors import ListedColormap\n",
    "import seaborn as sns\n",
    "from sklearn.linear_model import LogisticRegression\n",
    "from sklearn.linear_model import LinearRegression\n",
    "from sklearn.model_selection import KFold\n",
    "from sklearn.base import clone\n",
    "from sklearn.model_selection import train_test_split"
   ]
  },
  {
   "cell_type": "markdown",
   "metadata": {},
   "source": [
    "## Loading in the Data \n",
    "The csv loaded below contains many major US companies and the diversity of each company. In addition, we manually attached the Fortune500 \"Best Places to Work\" Rank of each company. If a company was listed on the Fortune500 list of the 500 best places to work, we inputted their rank in a new column before loading the csv into this notebook."
   ]
  },
  {
   "cell_type": "code",
   "execution_count": 22,
   "metadata": {},
   "outputs": [],
   "source": [
    "employee_diversity = pd.read_csv(\"top22.csv\")"
   ]
  },
  {
   "cell_type": "markdown",
   "metadata": {},
   "source": [
    "If a companies's Fortune Rank value was n/a, it means that the company did not show up on the list of best places to work. As such, we change all of those n/a values to zero to reflect that they did not make the list."
   ]
  },
  {
   "cell_type": "code",
   "execution_count": 23,
   "metadata": {},
   "outputs": [
    {
     "data": {
      "text/html": [
       "<div>\n",
       "<style scoped>\n",
       "    .dataframe tbody tr th:only-of-type {\n",
       "        vertical-align: middle;\n",
       "    }\n",
       "\n",
       "    .dataframe tbody tr th {\n",
       "        vertical-align: top;\n",
       "    }\n",
       "\n",
       "    .dataframe thead th {\n",
       "        text-align: right;\n",
       "    }\n",
       "</style>\n",
       "<table border=\"1\" class=\"dataframe\">\n",
       "  <thead>\n",
       "    <tr style=\"text-align: right;\">\n",
       "      <th></th>\n",
       "      <th>Date</th>\n",
       "      <th>Type</th>\n",
       "      <th>Company</th>\n",
       "      <th>Female%</th>\n",
       "      <th>Male%</th>\n",
       "      <th>%White</th>\n",
       "      <th>%Asian</th>\n",
       "      <th>%Latino</th>\n",
       "      <th>%Black</th>\n",
       "      <th>%Multi</th>\n",
       "      <th>%Other</th>\n",
       "      <th>Fortune_Rank</th>\n",
       "    </tr>\n",
       "  </thead>\n",
       "  <tbody>\n",
       "    <tr>\n",
       "      <th>0</th>\n",
       "      <td>2014</td>\n",
       "      <td>Country</td>\n",
       "      <td>U.S. Population</td>\n",
       "      <td>50.79</td>\n",
       "      <td>49.21</td>\n",
       "      <td>64.0</td>\n",
       "      <td>4.0</td>\n",
       "      <td>16.0</td>\n",
       "      <td>12.0</td>\n",
       "      <td>1.0</td>\n",
       "      <td>3.00</td>\n",
       "      <td>0.0</td>\n",
       "    </tr>\n",
       "    <tr>\n",
       "      <th>1</th>\n",
       "      <td>2014</td>\n",
       "      <td>Social Media</td>\n",
       "      <td>Facebook</td>\n",
       "      <td>31.00</td>\n",
       "      <td>69.00</td>\n",
       "      <td>57.0</td>\n",
       "      <td>34.0</td>\n",
       "      <td>4.0</td>\n",
       "      <td>2.0</td>\n",
       "      <td>3.0</td>\n",
       "      <td>-</td>\n",
       "      <td>168.0</td>\n",
       "    </tr>\n",
       "    <tr>\n",
       "      <th>2</th>\n",
       "      <td>2014</td>\n",
       "      <td>Social Media</td>\n",
       "      <td>Instagram</td>\n",
       "      <td>31.00</td>\n",
       "      <td>69.00</td>\n",
       "      <td>57.0</td>\n",
       "      <td>34.0</td>\n",
       "      <td>4.0</td>\n",
       "      <td>2.0</td>\n",
       "      <td>3.0</td>\n",
       "      <td>-</td>\n",
       "      <td>0.0</td>\n",
       "    </tr>\n",
       "    <tr>\n",
       "      <th>3</th>\n",
       "      <td>2014</td>\n",
       "      <td>Social Media</td>\n",
       "      <td>Google+</td>\n",
       "      <td>30.00</td>\n",
       "      <td>70.00</td>\n",
       "      <td>61.0</td>\n",
       "      <td>30.0</td>\n",
       "      <td>3.0</td>\n",
       "      <td>2.0</td>\n",
       "      <td>4.0</td>\n",
       "      <td>NaN</td>\n",
       "      <td>0.0</td>\n",
       "    </tr>\n",
       "    <tr>\n",
       "      <th>4</th>\n",
       "      <td>2014</td>\n",
       "      <td>Social Media</td>\n",
       "      <td>YouTube</td>\n",
       "      <td>30.00</td>\n",
       "      <td>70.00</td>\n",
       "      <td>61.0</td>\n",
       "      <td>30.0</td>\n",
       "      <td>3.0</td>\n",
       "      <td>2.0</td>\n",
       "      <td>4.0</td>\n",
       "      <td>NaN</td>\n",
       "      <td>0.0</td>\n",
       "    </tr>\n",
       "  </tbody>\n",
       "</table>\n",
       "</div>"
      ],
      "text/plain": [
       "   Date          Type          Company  Female%  Male%  %White  %Asian  \\\n",
       "0  2014       Country  U.S. Population    50.79  49.21    64.0     4.0   \n",
       "1  2014  Social Media         Facebook    31.00  69.00    57.0    34.0   \n",
       "2  2014  Social Media        Instagram    31.00  69.00    57.0    34.0   \n",
       "3  2014  Social Media          Google+    30.00  70.00    61.0    30.0   \n",
       "4  2014  Social Media          YouTube    30.00  70.00    61.0    30.0   \n",
       "\n",
       "   %Latino  %Black  %Multi %Other  Fortune_Rank  \n",
       "0     16.0    12.0     1.0   3.00           0.0  \n",
       "1      4.0     2.0     3.0   -            168.0  \n",
       "2      4.0     2.0     3.0   -              0.0  \n",
       "3      3.0     2.0     4.0    NaN           0.0  \n",
       "4      3.0     2.0     4.0    NaN           0.0  "
      ]
     },
     "execution_count": 23,
     "metadata": {},
     "output_type": "execute_result"
    }
   ],
   "source": [
    "employee_diversity = employee_diversity.rename(columns={\" Fortune_Rank\":\"Fortune_Rank\", \" % White \":\"%White\", \n",
    "                                                       \" % Asian \":\"%Asian\", \" % Latino \":\"%Latino\", \n",
    "                                                       \" % Black \":\"%Black\", \" % Multi \":\"%Multi\", \n",
    "                                                       \" % Other \":\"%Other\", \" Male % \":\"Male%\", \n",
    "                                                       \" Female % \":\"Female%\"})\n",
    "employee_diversity[\"Fortune_Rank\"] = employee_diversity[\"Fortune_Rank\"].fillna(0)\n",
    "employee_diversity.head()"
   ]
  },
  {
   "cell_type": "markdown",
   "metadata": {},
   "source": [
    "## Cleaning and Preparing the Data"
   ]
  },
  {
   "cell_type": "markdown",
   "metadata": {},
   "source": [
    "In the code below, the following tasks are accomplished in order to ensure model accuracy:\n",
    "    1. since many of the companies are featured for several years, the dataset is cut down to only the May2018 diversity statistics.                                                         2.The Fortune500 ranks are set to 0 if a company did not make the list, or 1 if the company did make the list. We decided that the difference between being ranked 11 or 111, for example, was not worth testing for. Instead, we decided to just see how valuable being diverse was in being included on the fortune500 list at all."
   ]
  },
  {
   "cell_type": "code",
   "execution_count": 24,
   "metadata": {},
   "outputs": [
    {
     "data": {
      "text/html": [
       "<div>\n",
       "<style scoped>\n",
       "    .dataframe tbody tr th:only-of-type {\n",
       "        vertical-align: middle;\n",
       "    }\n",
       "\n",
       "    .dataframe tbody tr th {\n",
       "        vertical-align: top;\n",
       "    }\n",
       "\n",
       "    .dataframe thead th {\n",
       "        text-align: right;\n",
       "    }\n",
       "</style>\n",
       "<table border=\"1\" class=\"dataframe\">\n",
       "  <thead>\n",
       "    <tr style=\"text-align: right;\">\n",
       "      <th></th>\n",
       "      <th>Date</th>\n",
       "      <th>Type</th>\n",
       "      <th>Company</th>\n",
       "      <th>Female%</th>\n",
       "      <th>Male%</th>\n",
       "      <th>%White</th>\n",
       "      <th>%Asian</th>\n",
       "      <th>%Latino</th>\n",
       "      <th>%Black</th>\n",
       "      <th>%Multi</th>\n",
       "      <th>%Other</th>\n",
       "      <th>Fortune_Rank</th>\n",
       "    </tr>\n",
       "  </thead>\n",
       "  <tbody>\n",
       "    <tr>\n",
       "      <th>0</th>\n",
       "      <td>2014</td>\n",
       "      <td>Country</td>\n",
       "      <td>U.S. Population</td>\n",
       "      <td>50.79</td>\n",
       "      <td>49.21</td>\n",
       "      <td>64.0</td>\n",
       "      <td>4.0</td>\n",
       "      <td>16.0</td>\n",
       "      <td>12.0</td>\n",
       "      <td>1.0</td>\n",
       "      <td>3.00</td>\n",
       "      <td>0</td>\n",
       "    </tr>\n",
       "    <tr>\n",
       "      <th>1</th>\n",
       "      <td>2014</td>\n",
       "      <td>Social Media</td>\n",
       "      <td>Facebook</td>\n",
       "      <td>31.00</td>\n",
       "      <td>69.00</td>\n",
       "      <td>57.0</td>\n",
       "      <td>34.0</td>\n",
       "      <td>4.0</td>\n",
       "      <td>2.0</td>\n",
       "      <td>3.0</td>\n",
       "      <td>-</td>\n",
       "      <td>168</td>\n",
       "    </tr>\n",
       "    <tr>\n",
       "      <th>2</th>\n",
       "      <td>2014</td>\n",
       "      <td>Social Media</td>\n",
       "      <td>Instagram</td>\n",
       "      <td>31.00</td>\n",
       "      <td>69.00</td>\n",
       "      <td>57.0</td>\n",
       "      <td>34.0</td>\n",
       "      <td>4.0</td>\n",
       "      <td>2.0</td>\n",
       "      <td>3.0</td>\n",
       "      <td>-</td>\n",
       "      <td>0</td>\n",
       "    </tr>\n",
       "    <tr>\n",
       "      <th>3</th>\n",
       "      <td>2014</td>\n",
       "      <td>Social Media</td>\n",
       "      <td>Google+</td>\n",
       "      <td>30.00</td>\n",
       "      <td>70.00</td>\n",
       "      <td>61.0</td>\n",
       "      <td>30.0</td>\n",
       "      <td>3.0</td>\n",
       "      <td>2.0</td>\n",
       "      <td>4.0</td>\n",
       "      <td>NaN</td>\n",
       "      <td>0</td>\n",
       "    </tr>\n",
       "    <tr>\n",
       "      <th>4</th>\n",
       "      <td>2014</td>\n",
       "      <td>Social Media</td>\n",
       "      <td>YouTube</td>\n",
       "      <td>30.00</td>\n",
       "      <td>70.00</td>\n",
       "      <td>61.0</td>\n",
       "      <td>30.0</td>\n",
       "      <td>3.0</td>\n",
       "      <td>2.0</td>\n",
       "      <td>4.0</td>\n",
       "      <td>NaN</td>\n",
       "      <td>0</td>\n",
       "    </tr>\n",
       "  </tbody>\n",
       "</table>\n",
       "</div>"
      ],
      "text/plain": [
       "   Date          Type          Company  Female%  Male%  %White  %Asian  \\\n",
       "0  2014       Country  U.S. Population    50.79  49.21    64.0     4.0   \n",
       "1  2014  Social Media         Facebook    31.00  69.00    57.0    34.0   \n",
       "2  2014  Social Media        Instagram    31.00  69.00    57.0    34.0   \n",
       "3  2014  Social Media          Google+    30.00  70.00    61.0    30.0   \n",
       "4  2014  Social Media          YouTube    30.00  70.00    61.0    30.0   \n",
       "\n",
       "   %Latino  %Black  %Multi %Other  Fortune_Rank  \n",
       "0     16.0    12.0     1.0   3.00             0  \n",
       "1      4.0     2.0     3.0   -              168  \n",
       "2      4.0     2.0     3.0   -                0  \n",
       "3      3.0     2.0     4.0    NaN             0  \n",
       "4      3.0     2.0     4.0    NaN             0  "
      ]
     },
     "execution_count": 24,
     "metadata": {},
     "output_type": "execute_result"
    }
   ],
   "source": [
    "employee_diversity[\"Fortune_Rank\"] = employee_diversity[\"Fortune_Rank\"].astype(int)\n",
    "employee_diversity.head()"
   ]
  },
  {
   "cell_type": "code",
   "execution_count": 25,
   "metadata": {},
   "outputs": [
    {
     "data": {
      "text/html": [
       "<div>\n",
       "<style scoped>\n",
       "    .dataframe tbody tr th:only-of-type {\n",
       "        vertical-align: middle;\n",
       "    }\n",
       "\n",
       "    .dataframe tbody tr th {\n",
       "        vertical-align: top;\n",
       "    }\n",
       "\n",
       "    .dataframe thead th {\n",
       "        text-align: right;\n",
       "    }\n",
       "</style>\n",
       "<table border=\"1\" class=\"dataframe\">\n",
       "  <thead>\n",
       "    <tr style=\"text-align: right;\">\n",
       "      <th></th>\n",
       "      <th>Date</th>\n",
       "      <th>Type</th>\n",
       "      <th>Company</th>\n",
       "      <th>Female%</th>\n",
       "      <th>Male%</th>\n",
       "      <th>%White</th>\n",
       "      <th>%Asian</th>\n",
       "      <th>%Latino</th>\n",
       "      <th>%Black</th>\n",
       "      <th>%Multi</th>\n",
       "      <th>%Other</th>\n",
       "      <th>Fortune_Rank</th>\n",
       "    </tr>\n",
       "  </thead>\n",
       "  <tbody>\n",
       "    <tr>\n",
       "      <th>128</th>\n",
       "      <td>May 2018</td>\n",
       "      <td>Social Media</td>\n",
       "      <td>Facebook</td>\n",
       "      <td>35.0</td>\n",
       "      <td>65.0</td>\n",
       "      <td>49.0</td>\n",
       "      <td>40.0</td>\n",
       "      <td>5.0</td>\n",
       "      <td>3.0</td>\n",
       "      <td>3.0</td>\n",
       "      <td>1.00</td>\n",
       "      <td>168</td>\n",
       "    </tr>\n",
       "    <tr>\n",
       "      <th>129</th>\n",
       "      <td>May 2018</td>\n",
       "      <td>Social Media</td>\n",
       "      <td>Instagram</td>\n",
       "      <td>35.0</td>\n",
       "      <td>65.0</td>\n",
       "      <td>49.0</td>\n",
       "      <td>40.0</td>\n",
       "      <td>5.0</td>\n",
       "      <td>3.0</td>\n",
       "      <td>3.0</td>\n",
       "      <td>1.00</td>\n",
       "      <td>0</td>\n",
       "    </tr>\n",
       "    <tr>\n",
       "      <th>130</th>\n",
       "      <td>May 2018</td>\n",
       "      <td>Social Media</td>\n",
       "      <td>Google+</td>\n",
       "      <td>31.0</td>\n",
       "      <td>69.0</td>\n",
       "      <td>56.0</td>\n",
       "      <td>35.0</td>\n",
       "      <td>4.0</td>\n",
       "      <td>2.0</td>\n",
       "      <td>4.0</td>\n",
       "      <td>1.00</td>\n",
       "      <td>0</td>\n",
       "    </tr>\n",
       "    <tr>\n",
       "      <th>131</th>\n",
       "      <td>May 2018</td>\n",
       "      <td>Social Media</td>\n",
       "      <td>YouTube</td>\n",
       "      <td>31.0</td>\n",
       "      <td>69.0</td>\n",
       "      <td>56.0</td>\n",
       "      <td>35.0</td>\n",
       "      <td>4.0</td>\n",
       "      <td>2.0</td>\n",
       "      <td>4.0</td>\n",
       "      <td>1.00</td>\n",
       "      <td>0</td>\n",
       "    </tr>\n",
       "    <tr>\n",
       "      <th>132</th>\n",
       "      <td>May 2018</td>\n",
       "      <td>Social Media</td>\n",
       "      <td>LinkedIn</td>\n",
       "      <td>42.0</td>\n",
       "      <td>58.0</td>\n",
       "      <td>52.0</td>\n",
       "      <td>39.0</td>\n",
       "      <td>4.0</td>\n",
       "      <td>4.0</td>\n",
       "      <td>2.0</td>\n",
       "      <td>-</td>\n",
       "      <td>0</td>\n",
       "    </tr>\n",
       "  </tbody>\n",
       "</table>\n",
       "</div>"
      ],
      "text/plain": [
       "         Date          Type    Company  Female%  Male%  %White  %Asian  \\\n",
       "128  May 2018  Social Media   Facebook     35.0   65.0    49.0    40.0   \n",
       "129  May 2018  Social Media  Instagram     35.0   65.0    49.0    40.0   \n",
       "130  May 2018  Social Media    Google+     31.0   69.0    56.0    35.0   \n",
       "131  May 2018  Social Media    YouTube     31.0   69.0    56.0    35.0   \n",
       "132  May 2018  Social Media   LinkedIn     42.0   58.0    52.0    39.0   \n",
       "\n",
       "     %Latino  %Black  %Multi %Other  Fortune_Rank  \n",
       "128      5.0     3.0     3.0   1.00           168  \n",
       "129      5.0     3.0     3.0   1.00             0  \n",
       "130      4.0     2.0     4.0   1.00             0  \n",
       "131      4.0     2.0     4.0   1.00             0  \n",
       "132      4.0     4.0     2.0   -                0  "
      ]
     },
     "execution_count": 25,
     "metadata": {},
     "output_type": "execute_result"
    }
   ],
   "source": [
    "#cut off dataset starting at the 2018 rows\n",
    "employee_diversity = employee_diversity.iloc[128:,]\n",
    "employee_diversity.head()"
   ]
  },
  {
   "cell_type": "code",
   "execution_count": 26,
   "metadata": {},
   "outputs": [
    {
     "data": {
      "text/html": [
       "<div>\n",
       "<style scoped>\n",
       "    .dataframe tbody tr th:only-of-type {\n",
       "        vertical-align: middle;\n",
       "    }\n",
       "\n",
       "    .dataframe tbody tr th {\n",
       "        vertical-align: top;\n",
       "    }\n",
       "\n",
       "    .dataframe thead th {\n",
       "        text-align: right;\n",
       "    }\n",
       "</style>\n",
       "<table border=\"1\" class=\"dataframe\">\n",
       "  <thead>\n",
       "    <tr style=\"text-align: right;\">\n",
       "      <th></th>\n",
       "      <th>Date</th>\n",
       "      <th>Type</th>\n",
       "      <th>Company</th>\n",
       "      <th>Female%</th>\n",
       "      <th>Male%</th>\n",
       "      <th>%White</th>\n",
       "      <th>%Asian</th>\n",
       "      <th>%Latino</th>\n",
       "      <th>%Black</th>\n",
       "      <th>%Multi</th>\n",
       "      <th>%Other</th>\n",
       "      <th>Fortune_Rank</th>\n",
       "    </tr>\n",
       "  </thead>\n",
       "  <tbody>\n",
       "    <tr>\n",
       "      <th>128</th>\n",
       "      <td>May 2018</td>\n",
       "      <td>Social Media</td>\n",
       "      <td>Facebook</td>\n",
       "      <td>35.0</td>\n",
       "      <td>65.0</td>\n",
       "      <td>49.0</td>\n",
       "      <td>40.0</td>\n",
       "      <td>5.0</td>\n",
       "      <td>3.0</td>\n",
       "      <td>3.0</td>\n",
       "      <td>1.00</td>\n",
       "      <td>1</td>\n",
       "    </tr>\n",
       "    <tr>\n",
       "      <th>129</th>\n",
       "      <td>May 2018</td>\n",
       "      <td>Social Media</td>\n",
       "      <td>Instagram</td>\n",
       "      <td>35.0</td>\n",
       "      <td>65.0</td>\n",
       "      <td>49.0</td>\n",
       "      <td>40.0</td>\n",
       "      <td>5.0</td>\n",
       "      <td>3.0</td>\n",
       "      <td>3.0</td>\n",
       "      <td>1.00</td>\n",
       "      <td>0</td>\n",
       "    </tr>\n",
       "    <tr>\n",
       "      <th>130</th>\n",
       "      <td>May 2018</td>\n",
       "      <td>Social Media</td>\n",
       "      <td>Google+</td>\n",
       "      <td>31.0</td>\n",
       "      <td>69.0</td>\n",
       "      <td>56.0</td>\n",
       "      <td>35.0</td>\n",
       "      <td>4.0</td>\n",
       "      <td>2.0</td>\n",
       "      <td>4.0</td>\n",
       "      <td>1.00</td>\n",
       "      <td>0</td>\n",
       "    </tr>\n",
       "    <tr>\n",
       "      <th>131</th>\n",
       "      <td>May 2018</td>\n",
       "      <td>Social Media</td>\n",
       "      <td>YouTube</td>\n",
       "      <td>31.0</td>\n",
       "      <td>69.0</td>\n",
       "      <td>56.0</td>\n",
       "      <td>35.0</td>\n",
       "      <td>4.0</td>\n",
       "      <td>2.0</td>\n",
       "      <td>4.0</td>\n",
       "      <td>1.00</td>\n",
       "      <td>0</td>\n",
       "    </tr>\n",
       "    <tr>\n",
       "      <th>132</th>\n",
       "      <td>May 2018</td>\n",
       "      <td>Social Media</td>\n",
       "      <td>LinkedIn</td>\n",
       "      <td>42.0</td>\n",
       "      <td>58.0</td>\n",
       "      <td>52.0</td>\n",
       "      <td>39.0</td>\n",
       "      <td>4.0</td>\n",
       "      <td>4.0</td>\n",
       "      <td>2.0</td>\n",
       "      <td>-</td>\n",
       "      <td>0</td>\n",
       "    </tr>\n",
       "  </tbody>\n",
       "</table>\n",
       "</div>"
      ],
      "text/plain": [
       "         Date          Type    Company  Female%  Male%  %White  %Asian  \\\n",
       "128  May 2018  Social Media   Facebook     35.0   65.0    49.0    40.0   \n",
       "129  May 2018  Social Media  Instagram     35.0   65.0    49.0    40.0   \n",
       "130  May 2018  Social Media    Google+     31.0   69.0    56.0    35.0   \n",
       "131  May 2018  Social Media    YouTube     31.0   69.0    56.0    35.0   \n",
       "132  May 2018  Social Media   LinkedIn     42.0   58.0    52.0    39.0   \n",
       "\n",
       "     %Latino  %Black  %Multi %Other  Fortune_Rank  \n",
       "128      5.0     3.0     3.0   1.00             1  \n",
       "129      5.0     3.0     3.0   1.00             0  \n",
       "130      4.0     2.0     4.0   1.00             0  \n",
       "131      4.0     2.0     4.0   1.00             0  \n",
       "132      4.0     4.0     2.0   -                0  "
      ]
     },
     "execution_count": 26,
     "metadata": {},
     "output_type": "execute_result"
    }
   ],
   "source": [
    "employee_diversity[\"Fortune_Rank\"].values[employee_diversity[\"Fortune_Rank\"]>0] = 1\n",
    "employee_diversity.head()"
   ]
  },
  {
   "cell_type": "code",
   "execution_count": 27,
   "metadata": {},
   "outputs": [],
   "source": [
    "columns_to_use = [\"Male%\", \"%White\"]\n",
    "diversity_data = employee_diversity[columns_to_use]"
   ]
  },
  {
   "cell_type": "code",
   "execution_count": 28,
   "metadata": {},
   "outputs": [],
   "source": [
    "#Perform the train test split\n",
    "train_x, test_x, train_y, test_y = train_test_split(diversity_data, employee_diversity[\"Fortune_Rank\"], test_size=0.20, random_state=100)\n",
    "\n"
   ]
  },
  {
   "cell_type": "markdown",
   "metadata": {},
   "source": [
    "## Model One\n",
    "For the first model, we tried to use Linear Regression to try to predict if a company was on the Fortune500 based on their diversity. We utilized the %white column as our main variable, in hopes that lower percentage of white employees would lead to more companies being on the Fortune500 list. The model showed very inconclusive results (as shown in the graph below), so we decided to create another model."
   ]
  },
  {
   "cell_type": "code",
   "execution_count": 29,
   "metadata": {},
   "outputs": [],
   "source": [
    "def rmse(actual_y, predicted_y):\n",
    "    '''\n",
    "    Args:\n",
    "        actual_y: the actual y column of our data frame\n",
    "        predicted_y: the y values our model predicted\n",
    "    \n",
    "    Returns:\n",
    "        the root mean squared error between our predicted and actual\n",
    "    '''\n",
    "    return np.sqrt(np.mean(((actual_y - predicted_y)**2)))\n",
    "\n",
    "\n",
    "def cross_validate_rmse(model, X, y):\n",
    "    '''\n",
    "    Args:\n",
    "        model: the model we are using to predict\n",
    "        X: the X values we are using to predict \n",
    "        y: the actual Y values we are trying to estimate\n",
    "        \n",
    "    Returns:\n",
    "        Performs a 5 Fold cross validation, and computes the mean RMSE of the values. Computes the cross val error. \n",
    "    '''\n",
    "    model = clone(model)\n",
    "    five_fold = KFold(n_splits=5)\n",
    "    rmse_values = []\n",
    "    for tr_ind, va_ind in five_fold.split(X):\n",
    "        model.fit(X.iloc[tr_ind,:], y.iloc[tr_ind])\n",
    "        rmse_values.append(rmse(y.iloc[va_ind], model.predict(X.iloc[va_ind,:])))\n",
    "    return np.mean(rmse_values)"
   ]
  },
  {
   "cell_type": "code",
   "execution_count": 30,
   "metadata": {},
   "outputs": [],
   "source": [
    "model = LinearRegression()\n",
    "model.fit(train_x, train_y)\n",
    "prediction = model.predict(train_x)"
   ]
  },
  {
   "cell_type": "code",
   "execution_count": 31,
   "metadata": {},
   "outputs": [
    {
     "data": {
      "text/plain": [
       "0.4425205738081768"
      ]
     },
     "execution_count": 31,
     "metadata": {},
     "output_type": "execute_result"
    }
   ],
   "source": [
    "train_error1 = rmse(train_y, prediction)\n",
    "train_error1"
   ]
  },
  {
   "cell_type": "code",
   "execution_count": 32,
   "metadata": {},
   "outputs": [
    {
     "data": {
      "text/plain": [
       "0.5772873847905837"
      ]
     },
     "execution_count": 32,
     "metadata": {},
     "output_type": "execute_result"
    }
   ],
   "source": [
    "cv_error1 = cross_validate_rmse(model, train_x, train_y)\n",
    "cv_error1"
   ]
  },
  {
   "cell_type": "code",
   "execution_count": 33,
   "metadata": {},
   "outputs": [
    {
     "data": {
      "text/plain": [
       "array([ 0.0149838 ,  0.68662988,  0.54157866,  0.54157866,  0.52646465,\n",
       "        0.48008958,  0.66527145,  0.5161233 ,  0.3697595 ,  0.41386376,\n",
       "        0.24097456,  0.40390307,  0.38964616,  0.19634827, -0.16836896,\n",
       "        0.72651991,  0.47038506,  0.5085663 ,  0.21225831,  0.54555527,\n",
       "        0.98226213,  0.15896307,  0.59407785,  0.54157866,  0.5085663 ,\n",
       "        0.39629089,  0.53612991])"
      ]
     },
     "execution_count": 33,
     "metadata": {},
     "output_type": "execute_result"
    }
   ],
   "source": [
    "prediction"
   ]
  },
  {
   "cell_type": "code",
   "execution_count": 14,
   "metadata": {},
   "outputs": [
    {
     "data": {
      "text/plain": [
       "<matplotlib.axes._subplots.AxesSubplot at 0x7f9302c093d0>"
      ]
     },
     "execution_count": 14,
     "metadata": {},
     "output_type": "execute_result"
    },
    {
     "data": {
      "image/png": "[encoded data removed]",
      "text/plain": [
       "<Figure size 432x288 with 1 Axes>"
      ]
     },
     "metadata": {
      "needs_background": "light"
     },
     "output_type": "display_data"
    }
   ],
   "source": [
    "sns.scatterplot(x=train_y, y=prediction)"
   ]
  },
  {
   "cell_type": "markdown",
   "metadata": {},
   "source": [
    "## Model 2\n",
    "Because our Y variable (whether or not a company is on the Fortune500 list) is binary, we decided to creat a logistic regression model instead of a linear regression model in hopes of revealing a more defined trend. This is because logistic regression is better at predicting categorical variables. Outside of one company with an outlier of over 70% white employees, the logistic regression graph below clearly indicates that diverse companies are the ones found on the Fortune500 list."
   ]
  },
  {
   "cell_type": "code",
   "execution_count": 34,
   "metadata": {},
   "outputs": [],
   "source": [
    "model2 = LogisticRegression(solver=\"lbfgs\")\n",
    "model2.fit(diversity_data, employee_diversity[\"Fortune_Rank\"])\n",
    "prediction2 = model2.predict(diversity_data)"
   ]
  },
  {
   "cell_type": "code",
   "execution_count": 89,
   "metadata": {},
   "outputs": [
    {
     "data": {
      "text/plain": [
       "<matplotlib.axes._subplots.AxesSubplot at 0x7f8998563190>"
      ]
     },
     "execution_count": 89,
     "metadata": {},
     "output_type": "execute_result"
    },
    {
     "data": {
      "image/png": "[encoded data removed]",
      "text/plain": [
       "<Figure size 432x288 with 1 Axes>"
      ]
     },
     "metadata": {
      "needs_background": "light"
     },
     "output_type": "display_data"
    }
   ],
   "source": [
    "sns.scatterplot(x=diversity_data[\"%White\"], y=prediction2)"
   ]
  },
  {
   "cell_type": "markdown",
   "metadata": {},
   "source": [
    "## Conclusion"
   ]
  },
  {
   "cell_type": "markdown",
   "metadata": {},
   "source": [
    "After cleaning the data and merging it with a column showing whether or not a company is one the Fortune500 list, it can be safely concluded that the Fortune500 list consists mainly of diverse companies. This provides incentive for Tesla to diversify as well, and also proves that working in an open, diverse, and encouraging environment produces positive results and positive publicity."
   ]
  },
  {
   "cell_type": "code",
   "execution_count": null,
   "metadata": {},
   "outputs": [],
   "source": []
  }
 ],
 "metadata": {
  "kernelspec": {
   "display_name": "Python 3",
   "language": "python",
   "name": "python3"
  },
  "language_info": {
   "codemirror_mode": {
    "name": "ipython",
    "version": 3
   },
   "file_extension": ".py",
   "mimetype": "text/x-python",
   "name": "python",
   "nbconvert_exporter": "python",
   "pygments_lexer": "ipython3",
   "version": "3.7.6"
  }
 },
 "nbformat": 4,
 "nbformat_minor": 4
}
